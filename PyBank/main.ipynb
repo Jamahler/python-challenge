{
 "cells": [
  {
   "cell_type": "code",
   "execution_count": 3,
   "metadata": {},
   "outputs": [],
   "source": [
    "import os\n",
    "import csv"
   ]
  },
  {
   "cell_type": "code",
   "execution_count": 4,
   "metadata": {},
   "outputs": [],
   "source": [
    "data = os.path.join(\"Resources/budget_data.csv\")"
   ]
  },
  {
   "cell_type": "code",
   "execution_count": 5,
   "metadata": {},
   "outputs": [],
   "source": [
    "months = 0\n",
    "total_profit = 0\n",
    "total_change = 0\n",
    "value = 0"
   ]
  },
  {
   "cell_type": "code",
   "execution_count": 6,
   "metadata": {},
   "outputs": [],
   "source": [
    "dates = []\n",
    "profits = []\n",
    "monthly_changes = []"
   ]
  },
  {
   "cell_type": "code",
   "execution_count": 15,
   "metadata": {},
   "outputs": [],
   "source": [
    "with open(data, newline=\"\") as csvfile:\n",
    "    csvreader = csv.reader(csvfile, delimiter=\",\")\n",
    "    csv_header = next(csvreader)\n",
    "\n",
    "    for row in csvreader:\n",
    "        months = months +1\n",
    "\n",
    "        dates.append(row[0])\n",
    "\n",
    "        profits.append(row[1])\n",
    "        total_profit = total_profit + int(row[1])\n",
    "\n",
    "        final_profit = int(row[1])\n",
    "        month_change = final_profit - value\n",
    "\n",
    "        monthly_changes.append(month_change)\n",
    "\n",
    "        total_change = total_change + month_change\n",
    "        value = final_profit\n",
    "\n",
    "        average_change = (total_change/months)\n",
    "\n",
    "        great_increase = max(monthly_changes)\n",
    "        \n",
    "        great_decrease = min(monthly_changes)\n",
    "\n",
    "        increase_date = dates[monthly_changes.index(great_increase)]\n",
    "        \n",
    "        decrease_date = dates[monthly_changes.index(great_decrease)]       "
   ]
  },
  {
   "cell_type": "code",
   "execution_count": 18,
   "metadata": {},
   "outputs": [],
   "source": [
    "with open('financial_analysis.txt', 'w') as text:\n",
    "    text.write(\"Financial Analysis\"+ \"\\n\")\n",
    "    text.write(\"----------------------------------------------------------\\n\")\n",
    "    text.write(\"Total Months: \" + str(months) + \"\\n\")\n",
    "    text.write(\"Total Profits: \" + \"$\" + str(total_profit) +\"\\n\")\n",
    "    text.write(\"Average Change: \" + '$' + str(int(average_change)) + \"\\n\")\n",
    "    text.write(\"Greatest Increase in Profits: \" + str(increase_date) + \" ($\" + str(great_increase) + \")\\n\")\n",
    "    text.write(\"Greatest Decrease in Profits: \" + str(decrease_date) + \" ($\" + str(great_decrease) + \")\\n\")"
   ]
  },
  {
   "cell_type": "raw",
   "metadata": {},
   "source": []
  },
  {
   "cell_type": "raw",
   "metadata": {},
   "source": []
  }
 ],
 "metadata": {
  "kernelspec": {
   "display_name": "Python 3",
   "language": "python",
   "name": "python3"
  },
  "language_info": {
   "codemirror_mode": {
    "name": "ipython",
    "version": 3
   },
   "file_extension": ".py",
   "mimetype": "text/x-python",
   "name": "python",
   "nbconvert_exporter": "python",
   "pygments_lexer": "ipython3",
   "version": "3.7.6-final"
  }
 },
 "nbformat": 4,
 "nbformat_minor": 4
}