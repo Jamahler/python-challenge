{
 "cells": [
  {
   "cell_type": "code",
   "execution_count": 1,
   "metadata": {},
   "outputs": [],
   "source": [
    "import os\n",
    "import csv"
   ]
  },
  {
   "cell_type": "code",
   "execution_count": 2,
   "metadata": {},
   "outputs": [],
   "source": [
    "data = os.path.join(\"Resources/election_data.csv\")"
   ]
  },
  {
   "cell_type": "code",
   "execution_count": 3,
   "metadata": {},
   "outputs": [],
   "source": [
    "votes = 0\n",
    "candidates = []\n",
    "unique_candidate = []\n",
    "candidate_votes = []\n",
    "percent = []"
   ]
  },
  {
   "cell_type": "code",
   "execution_count": 4,
   "metadata": {},
   "outputs": [],
   "source": [
    "with open(data, newline=\"\") as csvfile:\n",
    "    csvreader = csv.reader(csvfile, delimiter=\",\")\n",
    "    csv_header = next(csvreader)\n",
    "   \n",
    "    for row in csvreader:\n",
    "        votes = votes + 1\n",
    "        \n",
    "        candidates.append(row[2])\n",
    "        \n",
    "    for x in set(candidates):\n",
    "        unique_candidate.append(x)\n",
    "\n",
    "        y = candidates.count(x)\n",
    "        candidate_votes.append(y)\n",
    "        \n",
    "        z = (y/votes)*100\n",
    "        percent.append(z)        \n",
    "        \n",
    "    winning_vote_count = max(candidate_votes)\n",
    "    winner = unique_candidate[candidate_votes.index(winning_vote_count)]   \n"
   ]
  },
  {
   "cell_type": "code",
   "execution_count": 5,
   "metadata": {},
   "outputs": [],
   "source": [
    "with open('election_results.txt', 'w') as text:\n",
    "    text.write(\"Election Results\\n\")\n",
    "    text.write(\"---------------------------------------\\n\")\n",
    "    text.write(\"Total Vote: \" + str(votes) + \"\\n\")\n",
    "    text.write(\"---------------------------------------\\n\")\n",
    "    text.write(unique_candidate[0] + \": \" + str(round(percent[0], 4)) +\"% (\" + str(candidate_votes[0]) + \")\\n\")\n",
    "    text.write(unique_candidate[1] + \": \" + str(round(percent[1], 4)) +\"% (\" + str(candidate_votes[1]) + \")\\n\")\n",
    "    text.write(unique_candidate[2] + \": \" + str(round(percent[2], 4)) +\"% (\" + str(candidate_votes[2]) + \")\\n\")\n",
    "    text.write(unique_candidate[3] + \": \" + str(round(percent[3], 4)) +\"% (\" + str(candidate_votes[3]) + \")\\n\")\n",
    "    text.write(\"---------------------------------------\\n\")\n",
    "    text.write(\"The winner is: \" + winner + \"\\n\")\n",
    "    text.write(\"---------------------------------------\\n\")"
   ]
  },
  {
   "cell_type": "code",
   "execution_count": 6,
   "metadata": {},
   "outputs": [
    {
     "output_type": "execute_result",
     "data": {
      "text/plain": [
       "4"
      ]
     },
     "metadata": {},
     "execution_count": 6
    }
   ],
   "source": [
    "len(unique_candidate)"
   ]
  }
 ],
 "metadata": {
  "kernelspec": {
   "name": "python3",
   "display_name": "Python 3"
  }
 },
 "nbformat": 4,
 "nbformat_minor": 4
}